{
  "nbformat": 4,
  "nbformat_minor": 0,
  "metadata": {
    "colab": {
      "name": "Pandas DataFrame UltraQuick Tutorial.ipynb",
      "provenance": [],
      "private_outputs": true,
      "include_colab_link": true
    },
    "kernelspec": {
      "name": "python3",
      "display_name": "Python 3"
    }
  },
  "cells": [
    {
      "cell_type": "markdown",
      "metadata": {
        "id": "view-in-github",
        "colab_type": "text"
      },
      "source": [
        "<a href=\"https://colab.research.google.com/github/suvajit/try/blob/master/pandas_620_analysis.ipynb\" target=\"_parent\"><img src=\"https://colab.research.google.com/assets/colab-badge.svg\" alt=\"Open In Colab\"/></a>"
      ]
    },
    {
      "cell_type": "markdown",
      "source": [
        "EDA Analysis for 620 dataset starts **here**"
      ],
      "metadata": {
        "id": "d19DnNR5-8Zn"
      }
    },
    {
      "cell_type": "code",
      "source": [
        "import pandas as pd\n",
        "import numpy as np\n",
        "import seaborn as sns                       #visualisation\n",
        "import matplotlib.pyplot as plt             #visualisation\n",
        "%matplotlib inline     \n",
        "sns.set(color_codes=True)"
      ],
      "metadata": {
        "id": "H6Qaj1dV-5kw"
      },
      "execution_count": null,
      "outputs": []
    },
    {
      "cell_type": "markdown",
      "source": [
        "**Step 1 :** Loading data in frame"
      ],
      "metadata": {
        "id": "1dBT67qV_OyT"
      }
    },
    {
      "cell_type": "code",
      "source": [
        "df = pd.read_csv(\"sgp_620_tag_analysis.csv\")\n",
        "# To display the top 5 rows \n",
        "df.head(5)  "
      ],
      "metadata": {
        "id": "-lR0_38a_BX0"
      },
      "execution_count": null,
      "outputs": []
    },
    {
      "cell_type": "markdown",
      "source": [
        "Step 2 : Check data types"
      ],
      "metadata": {
        "id": "yGU67JqG_Uc8"
      }
    },
    {
      "cell_type": "code",
      "source": [
        "df.dtypes"
      ],
      "metadata": {
        "id": "Pncm1irk_LFC"
      },
      "execution_count": null,
      "outputs": []
    },
    {
      "cell_type": "code",
      "source": [
        "df.groupby(\n",
        "    ['id']\n",
        ").agg(\n",
        "    {\n",
        "        # Find the min, max, mean, stddev\n",
        "        'x': ['count', min, max, 'median', 'mean', 'std'],\n",
        "        'y': ['count', min, max, 'median', 'mean', 'std'],\n",
        "        'z': ['count', min, max, 'median', 'mean', 'std']\n",
        "    }\n",
        ")"
      ],
      "metadata": {
        "id": "YgSIjtJ1_4MW"
      },
      "execution_count": null,
      "outputs": []
    }
  ]
}